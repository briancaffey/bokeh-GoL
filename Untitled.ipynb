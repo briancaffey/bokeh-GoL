{
 "cells": [
  {
   "cell_type": "code",
   "execution_count": 16,
   "metadata": {
    "collapsed": false
   },
   "outputs": [],
   "source": [
    "import PIL\n",
    "from PIL import Image\n",
    "import random\n",
    "import os\n",
    "import sys\n",
    "import pandas as pd\n",
    "import numpy as np\n",
    "import scipy\n",
    "import matplotlib.pyplot as plt\n",
    "from __future__ import print_function\n",
    "%matplotlib inline"
   ]
  },
  {
   "cell_type": "code",
   "execution_count": 8,
   "metadata": {
    "collapsed": true
   },
   "outputs": [],
   "source": [
    "#set scale to scale the resulting images in save_image(i) function\n",
    "scale = 1\n",
    "\n",
    "#set the length and width of the square image canvas\n",
    "width = int(200)\n",
    "length = int(200)\n",
    "\n",
    "#number of steps that the ant will take on each walk\n",
    "iterations = 100000\n",
    "\n",
    "#for naming the image file below\n",
    "number = str(iterations)\n",
    "\n",
    "#Ininitialize a blank square image\n",
    "im1 = Image.new('RGBA', (width,length),'red')\n",
    "\n",
    "#color selection\n",
    "white = (255,255,255,255)\n",
    "red = (255,0,0,255)\n",
    "\n",
    "color_choices = [white, red]"
   ]
  },
  {
   "cell_type": "code",
   "execution_count": 10,
   "metadata": {
    "collapsed": true
   },
   "outputs": [],
   "source": [
    "#captures series of pixels used for generating images\n",
    "def get_pix_series():\n",
    "    global pix_series\n",
    "    pix_series = []\n",
    "    for x in range(len(pix_list)):\n",
    "        for y in range(len(pixel_colors)):\n",
    "            if pix_list[x][2] == y:\n",
    "                pixel = pixel_colors[y]\n",
    "                pix_series.append(pixel)"
   ]
  },
  {
   "cell_type": "code",
   "execution_count": 11,
   "metadata": {
    "collapsed": true
   },
   "outputs": [],
   "source": [
    "def save_image(i):\n",
    "    #give access to the image instantiated at the beginning of the script\n",
    "    global im1\n",
    "    #fill blank image canvas with pix_series pixel data\n",
    "    im1.putdata(pix_series)\n",
    "    #to rescale the image, set the scale variable in settings and call resize on im1\n",
    "    im1.resize((scale*im1.size[0],scale*im1.size[1])).save('%s.png' % (moves))"
   ]
  },
  {
   "cell_type": "code",
   "execution_count": 18,
   "metadata": {
    "collapsed": false
   },
   "outputs": [
    {
     "data": {
      "text/plain": [
       "<module 'numpy.random' from '/Users/andrewcaffey/anaconda/envs/bokeh-gol/lib/python2.7/site-packages/numpy/random/__init__.pyc'>"
      ]
     },
     "execution_count": 18,
     "metadata": {},
     "output_type": "execute_result"
    }
   ],
   "source": [
    "np.random()"
   ]
  },
  {
   "cell_type": "code",
   "execution_count": 12,
   "metadata": {
    "collapsed": true
   },
   "outputs": [],
   "source": [
    "im1.show()"
   ]
  }
 ],
 "metadata": {
  "kernelspec": {
   "display_name": "Python 2",
   "language": "python",
   "name": "python2"
  }
 },
 "nbformat": 4,
 "nbformat_minor": 0
}
